{
  "nbformat": 4,
  "nbformat_minor": 0,
  "metadata": {
    "colab": {
      "name": "linkprediction.ipynb",
      "provenance": [],
      "collapsed_sections": [],
      "authorship_tag": "ABX9TyOz4Cz9V/X8oEb9Z6C1SCxZ",
      "include_colab_link": true
    },
    "kernelspec": {
      "name": "python3",
      "display_name": "Python 3"
    },
    "language_info": {
      "name": "python"
    }
  },
  "cells": [
    {
      "cell_type": "markdown",
      "metadata": {
        "id": "view-in-github",
        "colab_type": "text"
      },
      "source": [
        "<a href=\"https://colab.research.google.com/github/davidmterneriu/E673_PS2_SP21/blob/main/linkprediction.ipynb\" target=\"_parent\"><img src=\"https://colab.research.google.com/assets/colab-badge.svg\" alt=\"Open In Colab\"/></a>"
      ]
    },
    {
      "cell_type": "markdown",
      "source": [
        "**Let's predict some links (David Terner)**\n",
        "-- \n",
        "\n",
        "\n",
        "[Github Link](https://github.com/davidmterneriu/SP22_I606_linkprediction/blob/main/linkprediction.ipynb)\n",
        "\n",
        "**Why do we care about link prediction?** \n",
        "\n",
        "This assignment will help you understand the link prediction task, which is one of the most common machine learning tasks that involve networks.\n",
        "\n",
        "Link prediction problem is everywhere. For instance, recommendation problems (e.g., Netflix) are link prediction. When you open up Netflix, it suggests you a whole bunch of shows and movies that you may like. In this setting, all users and contents on Netflix can be considered as a bipartite network and the link prediction task is to predict the link between contents and a given user.\n",
        "\n",
        "Similarly, link prediction is heavily used in all social media and social networking services like Facebook, Twitter, LinkedIn, and so on. To make users engaged with the platform, they constantly suggest new users or new topics to follow.\n",
        "\n",
        "**How can we do that?**\n",
        "\n",
        "There are roughly two ways to approach this problem. First, we can look at every pair of candidate node pairs and the local network structure around them to calculate certain metrics that inform the likelihood of a link between two candidates. For instance, if two people have many common friends, maybe they already know each other. Another way to think about this is considering a list of features (characteristics) that a node has (independent of other nodes) and then use the features of two nodes to compute the likelihood of having a link. For instance, if two people have so many common interests, they may already know each other or they will quickly become friends. In other words, both of these thinking leverages the strong homophily (and the clustered structure produced by it) to predict missing links.\n",
        "\n",
        "The most extreme (?) version of node-feature-based approach may be using graph embedding or graph neural networks. Graph embedding learns a vector for each node based on network structure and these vectors become nodes' features. We can perform link prediction by simply calculating the similarity between these vectors. Graph neural networks move further by incorporating existing node features on top of the network structure.\n",
        "\n",
        "**Overview**\n",
        "\n",
        "For this assignment, you will use Cora dataset which is a network of research papers that are connected by citations. You will build a Node2Vec model to predict citation links between different research papers.\n",
        "\n",
        "You will create a binary classification model to predict links/edges on top of node embeddings. Note that the link prediction (binary classification) is a *supervised* task whereas the learning node representations (embedding) is an *unsupervised* (or self-supervised) task."
      ],
      "metadata": {
        "id": "-_d1KztFd0--"
      }
    },
    {
      "cell_type": "markdown",
      "source": [
        "Please consider reading Node2Vec: Scalable Feature Learning for Networks research paper for exploring underlying concepts to complete this assignment. \n",
        "\n",
        "We will use ```stellergraph``` package to import dataset and related functions."
      ],
      "metadata": {
        "id": "7DSQ5un0NTWn"
      }
    },
    {
      "cell_type": "code",
      "source": [
        "!pip install stellargraph"
      ],
      "metadata": {
        "colab": {
          "base_uri": "https://localhost:8080/"
        },
        "id": "jwWjpsN9MjrF",
        "outputId": "4cd8b893-64da-40f4-e2f9-0156ebf3a8f3"
      },
      "execution_count": 1,
      "outputs": [
        {
          "output_type": "stream",
          "name": "stdout",
          "text": [
            "Requirement already satisfied: stellargraph in /usr/local/lib/python3.7/dist-packages (1.2.1)\n",
            "Requirement already satisfied: gensim>=3.4.0 in /usr/local/lib/python3.7/dist-packages (from stellargraph) (3.6.0)\n",
            "Requirement already satisfied: pandas>=0.24 in /usr/local/lib/python3.7/dist-packages (from stellargraph) (1.3.5)\n",
            "Requirement already satisfied: networkx>=2.2 in /usr/local/lib/python3.7/dist-packages (from stellargraph) (2.6.3)\n",
            "Requirement already satisfied: numpy>=1.14 in /usr/local/lib/python3.7/dist-packages (from stellargraph) (1.21.6)\n",
            "Requirement already satisfied: tensorflow>=2.1.0 in /usr/local/lib/python3.7/dist-packages (from stellargraph) (2.8.0)\n",
            "Requirement already satisfied: scikit-learn>=0.20 in /usr/local/lib/python3.7/dist-packages (from stellargraph) (1.0.2)\n",
            "Requirement already satisfied: scipy>=1.1.0 in /usr/local/lib/python3.7/dist-packages (from stellargraph) (1.4.1)\n",
            "Requirement already satisfied: matplotlib>=2.2 in /usr/local/lib/python3.7/dist-packages (from stellargraph) (3.2.2)\n",
            "Requirement already satisfied: six>=1.5.0 in /usr/local/lib/python3.7/dist-packages (from gensim>=3.4.0->stellargraph) (1.15.0)\n",
            "Requirement already satisfied: smart-open>=1.2.1 in /usr/local/lib/python3.7/dist-packages (from gensim>=3.4.0->stellargraph) (5.2.1)\n",
            "Requirement already satisfied: cycler>=0.10 in /usr/local/lib/python3.7/dist-packages (from matplotlib>=2.2->stellargraph) (0.11.0)\n",
            "Requirement already satisfied: pyparsing!=2.0.4,!=2.1.2,!=2.1.6,>=2.0.1 in /usr/local/lib/python3.7/dist-packages (from matplotlib>=2.2->stellargraph) (3.0.8)\n",
            "Requirement already satisfied: python-dateutil>=2.1 in /usr/local/lib/python3.7/dist-packages (from matplotlib>=2.2->stellargraph) (2.8.2)\n",
            "Requirement already satisfied: kiwisolver>=1.0.1 in /usr/local/lib/python3.7/dist-packages (from matplotlib>=2.2->stellargraph) (1.4.2)\n",
            "Requirement already satisfied: typing-extensions in /usr/local/lib/python3.7/dist-packages (from kiwisolver>=1.0.1->matplotlib>=2.2->stellargraph) (4.1.1)\n",
            "Requirement already satisfied: pytz>=2017.3 in /usr/local/lib/python3.7/dist-packages (from pandas>=0.24->stellargraph) (2022.1)\n",
            "Requirement already satisfied: threadpoolctl>=2.0.0 in /usr/local/lib/python3.7/dist-packages (from scikit-learn>=0.20->stellargraph) (3.1.0)\n",
            "Requirement already satisfied: joblib>=0.11 in /usr/local/lib/python3.7/dist-packages (from scikit-learn>=0.20->stellargraph) (1.1.0)\n",
            "Requirement already satisfied: h5py>=2.9.0 in /usr/local/lib/python3.7/dist-packages (from tensorflow>=2.1.0->stellargraph) (3.1.0)\n",
            "Requirement already satisfied: wrapt>=1.11.0 in /usr/local/lib/python3.7/dist-packages (from tensorflow>=2.1.0->stellargraph) (1.14.0)\n",
            "Requirement already satisfied: tensorboard<2.9,>=2.8 in /usr/local/lib/python3.7/dist-packages (from tensorflow>=2.1.0->stellargraph) (2.8.0)\n",
            "Requirement already satisfied: setuptools in /usr/local/lib/python3.7/dist-packages (from tensorflow>=2.1.0->stellargraph) (57.4.0)\n",
            "Requirement already satisfied: grpcio<2.0,>=1.24.3 in /usr/local/lib/python3.7/dist-packages (from tensorflow>=2.1.0->stellargraph) (1.44.0)\n",
            "Requirement already satisfied: termcolor>=1.1.0 in /usr/local/lib/python3.7/dist-packages (from tensorflow>=2.1.0->stellargraph) (1.1.0)\n",
            "Requirement already satisfied: astunparse>=1.6.0 in /usr/local/lib/python3.7/dist-packages (from tensorflow>=2.1.0->stellargraph) (1.6.3)\n",
            "Requirement already satisfied: protobuf>=3.9.2 in /usr/local/lib/python3.7/dist-packages (from tensorflow>=2.1.0->stellargraph) (3.17.3)\n",
            "Requirement already satisfied: keras-preprocessing>=1.1.1 in /usr/local/lib/python3.7/dist-packages (from tensorflow>=2.1.0->stellargraph) (1.1.2)\n",
            "Requirement already satisfied: opt-einsum>=2.3.2 in /usr/local/lib/python3.7/dist-packages (from tensorflow>=2.1.0->stellargraph) (3.3.0)\n",
            "Requirement already satisfied: tf-estimator-nightly==2.8.0.dev2021122109 in /usr/local/lib/python3.7/dist-packages (from tensorflow>=2.1.0->stellargraph) (2.8.0.dev2021122109)\n",
            "Requirement already satisfied: keras<2.9,>=2.8.0rc0 in /usr/local/lib/python3.7/dist-packages (from tensorflow>=2.1.0->stellargraph) (2.8.0)\n",
            "Requirement already satisfied: libclang>=9.0.1 in /usr/local/lib/python3.7/dist-packages (from tensorflow>=2.1.0->stellargraph) (13.0.0)\n",
            "Requirement already satisfied: gast>=0.2.1 in /usr/local/lib/python3.7/dist-packages (from tensorflow>=2.1.0->stellargraph) (0.5.3)\n",
            "Requirement already satisfied: google-pasta>=0.1.1 in /usr/local/lib/python3.7/dist-packages (from tensorflow>=2.1.0->stellargraph) (0.2.0)\n",
            "Requirement already satisfied: tensorflow-io-gcs-filesystem>=0.23.1 in /usr/local/lib/python3.7/dist-packages (from tensorflow>=2.1.0->stellargraph) (0.24.0)\n",
            "Requirement already satisfied: flatbuffers>=1.12 in /usr/local/lib/python3.7/dist-packages (from tensorflow>=2.1.0->stellargraph) (2.0)\n",
            "Requirement already satisfied: absl-py>=0.4.0 in /usr/local/lib/python3.7/dist-packages (from tensorflow>=2.1.0->stellargraph) (1.0.0)\n",
            "Requirement already satisfied: wheel<1.0,>=0.23.0 in /usr/local/lib/python3.7/dist-packages (from astunparse>=1.6.0->tensorflow>=2.1.0->stellargraph) (0.37.1)\n",
            "Requirement already satisfied: cached-property in /usr/local/lib/python3.7/dist-packages (from h5py>=2.9.0->tensorflow>=2.1.0->stellargraph) (1.5.2)\n",
            "Requirement already satisfied: werkzeug>=0.11.15 in /usr/local/lib/python3.7/dist-packages (from tensorboard<2.9,>=2.8->tensorflow>=2.1.0->stellargraph) (1.0.1)\n",
            "Requirement already satisfied: requests<3,>=2.21.0 in /usr/local/lib/python3.7/dist-packages (from tensorboard<2.9,>=2.8->tensorflow>=2.1.0->stellargraph) (2.23.0)\n",
            "Requirement already satisfied: tensorboard-data-server<0.7.0,>=0.6.0 in /usr/local/lib/python3.7/dist-packages (from tensorboard<2.9,>=2.8->tensorflow>=2.1.0->stellargraph) (0.6.1)\n",
            "Requirement already satisfied: markdown>=2.6.8 in /usr/local/lib/python3.7/dist-packages (from tensorboard<2.9,>=2.8->tensorflow>=2.1.0->stellargraph) (3.3.6)\n",
            "Requirement already satisfied: google-auth<3,>=1.6.3 in /usr/local/lib/python3.7/dist-packages (from tensorboard<2.9,>=2.8->tensorflow>=2.1.0->stellargraph) (1.35.0)\n",
            "Requirement already satisfied: tensorboard-plugin-wit>=1.6.0 in /usr/local/lib/python3.7/dist-packages (from tensorboard<2.9,>=2.8->tensorflow>=2.1.0->stellargraph) (1.8.1)\n",
            "Requirement already satisfied: google-auth-oauthlib<0.5,>=0.4.1 in /usr/local/lib/python3.7/dist-packages (from tensorboard<2.9,>=2.8->tensorflow>=2.1.0->stellargraph) (0.4.6)\n",
            "Requirement already satisfied: cachetools<5.0,>=2.0.0 in /usr/local/lib/python3.7/dist-packages (from google-auth<3,>=1.6.3->tensorboard<2.9,>=2.8->tensorflow>=2.1.0->stellargraph) (4.2.4)\n",
            "Requirement already satisfied: rsa<5,>=3.1.4 in /usr/local/lib/python3.7/dist-packages (from google-auth<3,>=1.6.3->tensorboard<2.9,>=2.8->tensorflow>=2.1.0->stellargraph) (4.8)\n",
            "Requirement already satisfied: pyasn1-modules>=0.2.1 in /usr/local/lib/python3.7/dist-packages (from google-auth<3,>=1.6.3->tensorboard<2.9,>=2.8->tensorflow>=2.1.0->stellargraph) (0.2.8)\n",
            "Requirement already satisfied: requests-oauthlib>=0.7.0 in /usr/local/lib/python3.7/dist-packages (from google-auth-oauthlib<0.5,>=0.4.1->tensorboard<2.9,>=2.8->tensorflow>=2.1.0->stellargraph) (1.3.1)\n",
            "Requirement already satisfied: importlib-metadata>=4.4 in /usr/local/lib/python3.7/dist-packages (from markdown>=2.6.8->tensorboard<2.9,>=2.8->tensorflow>=2.1.0->stellargraph) (4.11.3)\n",
            "Requirement already satisfied: zipp>=0.5 in /usr/local/lib/python3.7/dist-packages (from importlib-metadata>=4.4->markdown>=2.6.8->tensorboard<2.9,>=2.8->tensorflow>=2.1.0->stellargraph) (3.8.0)\n",
            "Requirement already satisfied: pyasn1<0.5.0,>=0.4.6 in /usr/local/lib/python3.7/dist-packages (from pyasn1-modules>=0.2.1->google-auth<3,>=1.6.3->tensorboard<2.9,>=2.8->tensorflow>=2.1.0->stellargraph) (0.4.8)\n",
            "Requirement already satisfied: idna<3,>=2.5 in /usr/local/lib/python3.7/dist-packages (from requests<3,>=2.21.0->tensorboard<2.9,>=2.8->tensorflow>=2.1.0->stellargraph) (2.10)\n",
            "Requirement already satisfied: urllib3!=1.25.0,!=1.25.1,<1.26,>=1.21.1 in /usr/local/lib/python3.7/dist-packages (from requests<3,>=2.21.0->tensorboard<2.9,>=2.8->tensorflow>=2.1.0->stellargraph) (1.24.3)\n",
            "Requirement already satisfied: chardet<4,>=3.0.2 in /usr/local/lib/python3.7/dist-packages (from requests<3,>=2.21.0->tensorboard<2.9,>=2.8->tensorflow>=2.1.0->stellargraph) (3.0.4)\n",
            "Requirement already satisfied: certifi>=2017.4.17 in /usr/local/lib/python3.7/dist-packages (from requests<3,>=2.21.0->tensorboard<2.9,>=2.8->tensorflow>=2.1.0->stellargraph) (2021.10.8)\n",
            "Requirement already satisfied: oauthlib>=3.0.0 in /usr/local/lib/python3.7/dist-packages (from requests-oauthlib>=0.7.0->google-auth-oauthlib<0.5,>=0.4.1->tensorboard<2.9,>=2.8->tensorflow>=2.1.0->stellargraph) (3.2.0)\n"
          ]
        }
      ]
    },
    {
      "cell_type": "markdown",
      "source": [
        "Let's import a bunch of stuff that we will need first."
      ],
      "metadata": {
        "id": "ys3olClvfGCj"
      }
    },
    {
      "cell_type": "code",
      "source": [
        "import matplotlib.pyplot as plt\n",
        "from math import isclose\n",
        "from sklearn.decomposition import PCA\n",
        "import os\n",
        "import networkx as nx\n",
        "import numpy as np\n",
        "import pandas as pd\n",
        "from stellargraph import StellarGraph, datasets\n",
        "from stellargraph.data import EdgeSplitter\n",
        "from collections import Counter\n",
        "import multiprocessing\n",
        "from IPython.display import display, HTML\n",
        "from sklearn.model_selection import train_test_split\n",
        "\n",
        "%matplotlib inline"
      ],
      "metadata": {
        "id": "WYRHt_NSMlbR"
      },
      "execution_count": 2,
      "outputs": []
    },
    {
      "cell_type": "markdown",
      "source": [
        "**Loading Cora dataset**\n",
        "\n",
        "You will use ```stellargraph.datasets.Cora()``` to get the paper citation network dataset. Use ```load``` function of the dataset to load the dataset. Use ```largest_connected_component_only``` to load the largest connected component only and ```str_node_ids``` for making node IDs as string."
      ],
      "metadata": {
        "id": "Tt8t0zAqfNP_"
      }
    },
    {
      "cell_type": "code",
      "source": [
        "dataset = datasets.Cora()\n",
        "dataset.description"
      ],
      "metadata": {
        "colab": {
          "base_uri": "https://localhost:8080/",
          "height": 53
        },
        "id": "SkCESXPqNDiK",
        "outputId": "da3758ce-fd25-49cf-dae4-4de754c3b2cd"
      },
      "execution_count": 3,
      "outputs": [
        {
          "output_type": "execute_result",
          "data": {
            "text/plain": [
              "'The Cora dataset consists of 2708 scientific publications classified into one of seven classes. The citation network consists of 5429 links. Each publication in the dataset is described by a 0/1-valued word vector indicating the absence/presence of the corresponding word from the dictionary. The dictionary consists of 1433 unique words.'"
            ],
            "application/vnd.google.colaboratory.intrinsic+json": {
              "type": "string"
            }
          },
          "metadata": {},
          "execution_count": 3
        }
      ]
    },
    {
      "cell_type": "code",
      "source": [
        "graph, _ = dataset.load(largest_connected_component_only=True, str_node_ids=True)\n",
        "print(graph.info())"
      ],
      "metadata": {
        "colab": {
          "base_uri": "https://localhost:8080/"
        },
        "id": "z5Tlt60nNHmi",
        "outputId": "2175d8cc-2002-4352-ecd7-850cec22212b"
      },
      "execution_count": 4,
      "outputs": [
        {
          "output_type": "stream",
          "name": "stdout",
          "text": [
            "StellarGraph: Undirected multigraph\n",
            " Nodes: 2485, Edges: 5209\n",
            "\n",
            " Node types:\n",
            "  paper: [2485]\n",
            "    Features: float32 vector, length 1433\n",
            "    Edge types: paper-cites->paper\n",
            "\n",
            " Edge types:\n",
            "    paper-cites->paper: [5209]\n",
            "        Weights: all 1 (default)\n",
            "        Features: none\n"
          ]
        }
      ]
    },
    {
      "cell_type": "markdown",
      "source": [
        "**Splitting Network Data into Train/Test**\n",
        "\n",
        "Here, you will create two models (Node embedding model and Binary classification model) and that is why you will require two types of datasets. You will need to transform original dataset into two datatsets.\n",
        "\n",
        "For training node embedding model, you need train and test graph (denoted by ```graph_train``` and ```graph_test``` in assignment) which will be the subgraph of original network.\n",
        "\n",
        "For training edge classifier model, you need training and test dataset (denoted by ```examples_train``` and ```examples_test``` in assignment) containing positive-negative edges.\n",
        "\n",
        "You also will need another split of edges dataset in order select the best classifier model. We are describing it as ```examples_validation```.\n",
        "\n",
        "You can use ```EdgeSplitter``` class from ```stellargraph``` to split dataset. You can use ```train_test_split``` function from ```EdgeSplitter``` object."
      ],
      "metadata": {
        "id": "O79zyOu4f431"
      }
    },
    {
      "cell_type": "markdown",
      "source": [
        "**Generating Test data** \n",
        "\n",
        "For link prediction task, you need to hide (remove) links from the original graph. Those edges will be called positive edges and you will take some random edges between nodes which doesn't have any edge between them in original graph. Those edges are called negative edges.\n",
        "\n",
        "You don't need to write your own function. ```train_test_split()``` from ```EdgeSplitter does``` that for us.\n",
        "\n",
        "Before you split the actual ```Cora``` dataset graph, we have provided an example graph for you to visualize and understand how ```train_test_split``` works."
      ],
      "metadata": {
        "id": "J2bVSQKcgk4h"
      }
    },
    {
      "cell_type": "code",
      "source": [
        "G = nx.Graph()\n",
        "G.add_edges_from([(0, 1), (0,2), (1, 3), (3, 4), (1,4)])\n",
        "\n",
        "nx.draw(G, with_labels=True)"
      ],
      "metadata": {
        "colab": {
          "base_uri": "https://localhost:8080/",
          "height": 319
        },
        "id": "0ZJRuZcxN0rc",
        "outputId": "c717b19a-6a5c-42d5-e594-322cc6eab12a"
      },
      "execution_count": 5,
      "outputs": [
        {
          "output_type": "display_data",
          "data": {
            "text/plain": [
              "<Figure size 432x288 with 1 Axes>"
            ],
            "image/png": "[encoded data removed]"
          },
          "metadata": {}
        }
      ]
    },
    {
      "cell_type": "markdown",
      "source": [
        "Now, let's remove 20% of the edges from the example graph. Note that above example graph contains 5 edges. So, if you remove 20% of edges in this graph, it will remove 1 edge."
      ],
      "metadata": {
        "id": "-cRlAJcghBu7"
      }
    },
    {
      "cell_type": "code",
      "source": [
        "# Edge splitter object for example graph\n",
        "splitter_example = EdgeSplitter(G)\n",
        "\n",
        "# Use train_test_split from splitter_example to get sampled edges, labels and test graph.\n",
        "graph_example, example_edges, example_labels = splitter_example.train_test_split(p=0.2)\n",
        "\n",
        "nx.draw(graph_example, with_labels=True)"
      ],
      "metadata": {
        "colab": {
          "base_uri": "https://localhost:8080/",
          "height": 336
        },
        "id": "wLBUk7TlhDs3",
        "outputId": "8f1e7178-7cee-4316-9f6c-c86b45d6382c"
      },
      "execution_count": 6,
      "outputs": [
        {
          "output_type": "stream",
          "name": "stdout",
          "text": [
            "** Sampled 1 positive and 1 negative edges. **\n"
          ]
        },
        {
          "output_type": "display_data",
          "data": {
            "text/plain": [
              "<Figure size 432x288 with 1 Axes>"
            ],
            "image/png": "[encoded data removed]"
          },
          "metadata": {}
        }
      ]
    },
    {
      "cell_type": "markdown",
      "source": [
        "You can see that one of the edge from the graph is removed. If you look at the other return values, you can see that the ```example_edges``` variable contains two (there will be more in a larger graph) example edges and their labels. They contain both positive and negative examples."
      ],
      "metadata": {
        "id": "5fJ-yMpFhHvh"
      }
    },
    {
      "cell_type": "code",
      "source": [
        "print(example_edges)\n",
        "print(example_labels)"
      ],
      "metadata": {
        "colab": {
          "base_uri": "https://localhost:8080/"
        },
        "id": "ZZWQgA2whMnP",
        "outputId": "f938d9fd-c818-48c2-d490-7d5f7aa31af0"
      },
      "execution_count": 7,
      "outputs": [
        {
          "output_type": "stream",
          "name": "stdout",
          "text": [
            "[[0 1]\n",
            " [1 2]]\n",
            "[1 0]\n"
          ]
        }
      ]
    },
    {
      "cell_type": "markdown",
      "source": [
        "From above print statement, it is clear that it has extracted two edges from the graph among which one is positive edge (```label=1```) and another is negative edge (```label=0```). So, this is how train_test_split function works.\n",
        "\n",
        "Now, let us split the graph for Cora dataset.\n",
        "\n",
        "You need to remove 10% of edges from the original graph to get our test graph. Also, make sure that you sample the negative edges from global structure of graph. (These will be parameters in the function ```train_test_split```)"
      ],
      "metadata": {
        "id": "tQ52zkCPhXzq"
      }
    },
    {
      "cell_type": "code",
      "source": [
        "# Edge splitter test object for original graph\n",
        "splitter_test = EdgeSplitter(graph)\n",
        "\n",
        "# TODO: Use train_test_split from splitter_test to get sampled edges, labels and test graph.\n",
        "# graph_test, examples_test, labels_test = ... \n",
        "\n",
        "graph_test, examples_test, labels_test = splitter_test.train_test_split(p=0.1)\n",
        "\n",
        "print(graph_test.info())"
      ],
      "metadata": {
        "colab": {
          "base_uri": "https://localhost:8080/"
        },
        "id": "lA8ly-fshpq-",
        "outputId": "5e42f898-a11a-4033-f0b3-a7f332a9dc52"
      },
      "execution_count": 8,
      "outputs": [
        {
          "output_type": "stream",
          "name": "stdout",
          "text": [
            "** Sampled 520 positive and 520 negative edges. **\n",
            "StellarGraph: Undirected multigraph\n",
            " Nodes: 2485, Edges: 4689\n",
            "\n",
            " Node types:\n",
            "  paper: [2485]\n",
            "    Features: float32 vector, length 1433\n",
            "    Edge types: paper-cites->paper\n",
            "\n",
            " Edge types:\n",
            "    paper-cites->paper: [4689]\n",
            "        Weights: all 1 (default)\n",
            "        Features: none\n"
          ]
        }
      ]
    },
    {
      "cell_type": "markdown",
      "source": [
        "**Generating Test Data** \n",
        "\n",
        "```graph_test``` extracted above has 10% edges (positive edges) removed from the original graph. Same number of negative edges are also sampled from original graph.\n",
        "\n",
        "Now, you have to get training dataset. To do that, you can sample 10% positive-negative edges from ```graph_test``` (if we use ```graph``` for sampling training data, then there may be some edges which overlap in ```graph_test``` data which will defeat the purpose of test data being non-overlapping with train data). You need to follow same code which you followed previously.\n",
        "\n",
        "After you get ```examples``` from ```splitter_train.train_test_split()```, you will need to apply ```sklearn.model_selection.train_test_split()``` to divide training dataset into train and validation dataset in 3:1 ratio."
      ],
      "metadata": {
        "id": "ZjJz0PHNjvjs"
      }
    },
    {
      "cell_type": "code",
      "source": [
        "# Edge splitter train object for graph_test\n",
        "# Note that we are also passing original graph here since we don't want EdgeSplitter to\n",
        "# sample negative edge from graph_test which was removed as part of previous split.\n",
        "splitter_train = EdgeSplitter(graph_test, graph)\n",
        "\n",
        "# TODO: Use train_test_split from splitter_train to get sampled edges, labels and train graph.\n",
        "# graph_train, examples, labels = ... \n",
        "graph_train, examples, labels =splitter_train.train_test_split()\n",
        "\n",
        "# Use sklearn.model_selection.train_test_split() on examples and labels to get train and validation edge data.\n",
        "#examples_train, examples_validation, labels_train, labels_validation = train_test_split(train_size=0.75, test_size=0.25)\n",
        "\n",
        "examples_train, examples_validation, labels_train, labels_validation = train_test_split(\n",
        "    examples, labels, train_size=0.75, test_size=0.25\n",
        ")\n",
        "\n",
        "print(graph_train.info())"
      ],
      "metadata": {
        "colab": {
          "base_uri": "https://localhost:8080/"
        },
        "id": "rwaah9qikK4X",
        "outputId": "4d50af93-2962-4f62-938b-23b948a5ba84"
      },
      "execution_count": 9,
      "outputs": [
        {
          "output_type": "stream",
          "name": "stdout",
          "text": [
            "** Sampled 2344 positive and 2344 negative edges. **\n",
            "StellarGraph: Undirected multigraph\n",
            " Nodes: 2485, Edges: 2345\n",
            "\n",
            " Node types:\n",
            "  paper: [2485]\n",
            "    Features: float32 vector, length 1433\n",
            "    Edge types: paper-cites->paper\n",
            "\n",
            " Edge types:\n",
            "    paper-cites->paper: [2345]\n",
            "        Weights: all 1 (default)\n",
            "        Features: none\n"
          ]
        }
      ]
    },
    {
      "cell_type": "code",
      "source": [
        "print(\"Number of edges in Train dataset: {}\".format(len(examples_train)))\n",
        "print(\"Number of edges in Validation dataset: {}\".format(len(examples_validation)))\n",
        "print(\"Number of edges in Test dataset: {}\".format(len(examples_test)))"
      ],
      "metadata": {
        "colab": {
          "base_uri": "https://localhost:8080/"
        },
        "id": "zm7hyjgNWVGp",
        "outputId": "b7168525-08e4-425b-ddd7-6bfe29353b5e"
      },
      "execution_count": 10,
      "outputs": [
        {
          "output_type": "stream",
          "name": "stdout",
          "text": [
            "Number of edges in Train dataset: 3516\n",
            "Number of edges in Validation dataset: 1172\n",
            "Number of edges in Test dataset: 1040\n"
          ]
        }
      ]
    },
    {
      "cell_type": "markdown",
      "source": [
        "Now, you have all the datasets you need to proceed for model building task."
      ],
      "metadata": {
        "id": "jeQvH1L-W7IN"
      }
    },
    {
      "cell_type": "markdown",
      "source": [
        "**Simplest Node Representations**\n",
        "\n",
        "If you want to represent a particular node in a graph with a vector of certain length, the simplest possible representation of that graph is the row of adjacency matrix corresponding to that particular node.\n",
        "\n",
        "Let us understand this by the example graph $G$ that we created previously."
      ],
      "metadata": {
        "id": "cn_ex4ccXJ-O"
      }
    },
    {
      "cell_type": "code",
      "source": [
        "# Creating adjacency matrix of graph G\n",
        "print(nx.to_numpy_matrix(G))"
      ],
      "metadata": {
        "colab": {
          "base_uri": "https://localhost:8080/"
        },
        "id": "zMTE6HimXOhH",
        "outputId": "2b098905-aa00-4707-f262-f6e66be791d3"
      },
      "execution_count": 11,
      "outputs": [
        {
          "output_type": "stream",
          "name": "stdout",
          "text": [
            "[[0. 1. 1. 0. 0.]\n",
            " [1. 0. 0. 1. 1.]\n",
            " [1. 0. 0. 0. 0.]\n",
            " [0. 1. 0. 0. 1.]\n",
            " [0. 1. 0. 1. 0.]]\n"
          ]
        }
      ]
    },
    {
      "cell_type": "markdown",
      "source": [
        "Each row in the above matrix represents a node and the row contains ```1``` where edge exists between this node with the other node else ```0```. The row contains ```5``` elements at the moment since we have ```5``` nodes in the graph. If the graph has $N$ nodes then this type of representation will have length $N$ for each node representation. Moreover, if two nodes do not share any neighbors, the two feature vectors (the rows or columns that correspond to the nodes) will be orthogonal and we will not be able to obtain meaningful similarity measure between them.\n",
        "\n",
        "Because the graph can be pretty huge, this type of node representation is not scalable. It does not only require a lot of space to store, it will not give us any meaningful way to compute similarity between most pairs of nodes. This is why we want to either use measures that take local network structure into account or *dense* representations."
      ],
      "metadata": {
        "id": "vpGwh--oXT1f"
      }
    },
    {
      "cell_type": "markdown",
      "source": [
        "**Adamic Adar Index** \n",
        "\n",
        "Adamic Adar is also one of the simplest edge representation techniques. It focuses on the common neighbors of the two nodes that we are considering. The idea is that if two nodes have many shared neighbors who do not have many neighbors, the two nodes should be more likely to be connected.\n",
        "\n",
        "You will use example graph $G$ to find Adamic Adar index its edges. Use simple ```adamic_adar_index``` method from ```networkx``` to find it."
      ],
      "metadata": {
        "id": "-a1Z08b_Y4Ny"
      }
    },
    {
      "cell_type": "code",
      "source": [
        "# TODO: Find adamic adar index of all possible edges in graph G\n",
        "edge_indexes = nx.adamic_adar_index(G)\n",
        "\n",
        "nx.draw(G, with_labels=True)\n",
        "print(list(edge_indexes))"
      ],
      "metadata": {
        "colab": {
          "base_uri": "https://localhost:8080/",
          "height": 336
        },
        "id": "NOhW53bUZWXe",
        "outputId": "b9c46aa3-0d04-4cd8-86fc-984cb676c5b2"
      },
      "execution_count": 12,
      "outputs": [
        {
          "output_type": "stream",
          "name": "stdout",
          "text": [
            "[(0, 3, 0.9102392266268373), (0, 4, 0.9102392266268373), (1, 2, 1.4426950408889634), (2, 3, 0), (2, 4, 0)]\n"
          ]
        },
        {
          "output_type": "display_data",
          "data": {
            "text/plain": [
              "<Figure size 432x288 with 1 Axes>"
            ],
            "image/png": "[encoded data removed]"
          },
          "metadata": {}
        }
      ]
    },
    {
      "cell_type": "markdown",
      "source": [
        "In above index list, all elements are in form ```(u, v, p)``` where ```u``` and ```v``` are the node pairs where there may be a missing link. And ```p``` represents the index found through the algorithm. Note that (2,3) and (2,4) have 0 as they do not share any common neighbors.\n",
        "\n",
        "Now, these numbers can be used as a feature for any given pair of nodes and can be inputted to other models (e.g., logistic regression).\n",
        "\n",
        "Although it is a useful heuristic measure that can be used as a baseline, note that it is only a single number and it cannot compute the score if two nodes do not share any neighbors."
      ],
      "metadata": {
        "id": "VaqGnquiZcwW"
      }
    },
    {
      "cell_type": "markdown",
      "source": [
        "**DeepWalk/Node2Vec**\n",
        "\n",
        "DeepWalk and Node2vec are two of the first graph embedding models that are inspired by the word2vec model. The idea is super simple. We consider random walk trajectories on a graph as \"sentences\"! The node ids appearing in the random walks are then considered as \"words\".\n",
        "\n",
        "You will create a Node2Vec model which will create low dimensional node representations. These node embeddings will be created by the model such that the nodes which are closer in the graph will have embeddings closer (more cosine similarity).\n",
        "\n",
        "In Node2Vec model, it first makes random walks through the node and finds context pairs. You can use ```BiasedRandomWalk``` to do that. Once you have random walk data, you can pass the walks data to Word2Vec model. Just like Word2Vec generates embedding for words, it will generate for the random walks you will pass. You don't need to create Word2Vec model from scratch. You can use ```Word2Vec``` from gensim package.\n"
      ],
      "metadata": {
        "id": "IhEHIW6IZpj3"
      }
    },
    {
      "cell_type": "markdown",
      "source": [
        "Below are the parameters used in Node2Vec model. To understand more about the parameter, please consider reading Node2Vec paper.\n",
        "* ```p``` - Random walk parameter “p” \n",
        "* ```q``` - Random walk parameter “q”\n",
        "* ```dimensions``` - Dimensionality of node2vec embeddings\n",
        "* ```num_walks``` - Number of walks from each node\n",
        "* ```walk_length``` - Length of each random walk\n",
        "* ```window_size``` - Context window size for Word2Vec\n",
        "* ```num_iter``` - number of SGD iterations (epochs)\n",
        "* ```workers``` - Number of workers for Word2Vec\n",
        "\n",
        "To stay consistent with the results, we have initialized the paramters in this assignment. Please do not change the paramters for submission but if you want to experiment with the model, you can."
      ],
      "metadata": {
        "id": "HABUyBqpZ7Bo"
      }
    },
    {
      "cell_type": "code",
      "source": [
        "p = 1.0\n",
        "q = 1.0\n",
        "dimensions = 128\n",
        "num_walks = 10\n",
        "walk_length = 80\n",
        "window_size = 10\n",
        "num_iter = 1\n",
        "workers = multiprocessing.cpu_count()"
      ],
      "metadata": {
        "id": "jmmMwugNc0QE"
      },
      "execution_count": 13,
      "outputs": []
    },
    {
      "cell_type": "code",
      "source": [
        "from stellargraph.data import BiasedRandomWalk\n",
        "from gensim.models import Word2Vec\n",
        "\n",
        "def node2vec_embedding(graph, graph_name):\n",
        "    # Object to generate random walks\n",
        "    random_walker = BiasedRandomWalk(graph)\n",
        "\n",
        "    # Generate random walks for graph using random_walker\n",
        "    walks = random_walker.run(graph.nodes(), n=num_walks, length=walk_length, p=p, q=q)\n",
        "    print('Number of random walks for \"{}\": {}'.format(graph_name, len(walks)))\n",
        "\n",
        "    # TODO: Create model using Word2Vec imported from gensim.models\n",
        "    model = Word2Vec(walks, workers=workers, window =window_size, size=dimensions,iter=num_iter)\n",
        "\n",
        "    # Get embedding of a node\n",
        "    def get_embedding(u):\n",
        "        return model.wv[u]\n",
        "    \n",
        "    return get_embedding"
      ],
      "metadata": {
        "id": "AgfMiHIdc9Ix"
      },
      "execution_count": 14,
      "outputs": []
    },
    {
      "cell_type": "code",
      "source": [
        "embedding_train = node2vec_embedding(graph_train, \"Train Graph\")"
      ],
      "metadata": {
        "colab": {
          "base_uri": "https://localhost:8080/"
        },
        "id": "wGvcn86rdC9t",
        "outputId": "ed57252b-252e-4cf9-c36f-e8bbfad2b724"
      },
      "execution_count": 15,
      "outputs": [
        {
          "output_type": "stream",
          "name": "stdout",
          "text": [
            "Number of random walks for \"Train Graph\": 24850\n"
          ]
        }
      ]
    },
    {
      "cell_type": "code",
      "source": [
        "l1=list(graph_train.nodes())\n",
        "embedding_train(l1[0])"
      ],
      "metadata": {
        "colab": {
          "base_uri": "https://localhost:8080/"
        },
        "id": "Y7BtOTEllrcn",
        "outputId": "42f478ea-3485-4ae9-b0db-adca6b771b6b"
      },
      "execution_count": 16,
      "outputs": [
        {
          "output_type": "execute_result",
          "data": {
            "text/plain": [
              "array([ 0.36790746, -0.32776412, -0.14890736, -0.09989811,  0.18234122,\n",
              "        0.41340598,  0.1687093 ,  0.31811896,  0.03253543, -0.04996674,\n",
              "       -0.08796624,  0.46507722,  0.3878785 , -0.08070821,  0.07919607,\n",
              "       -0.02992574, -0.63252264, -0.45156357, -0.14279704, -0.4188826 ,\n",
              "       -0.310355  , -0.18535928,  0.41045493,  0.15183869,  0.429509  ,\n",
              "       -0.16995099,  0.6925275 , -0.00607513, -0.06731043,  0.07796215,\n",
              "       -0.28683323, -0.10521615, -0.19490585,  0.30767477, -0.2549857 ,\n",
              "        0.37774876, -0.34241593,  0.11385491, -0.12831508, -0.02632803,\n",
              "        0.10319228,  0.20431837,  0.03765787,  0.34806123, -0.01710514,\n",
              "        0.12106306, -0.19269873,  0.45752376, -0.13470285, -0.00433778,\n",
              "        0.03937035,  0.33772635, -0.05828411,  0.1482854 ,  0.45397034,\n",
              "        0.57467824, -0.02440714,  0.41763663, -0.07819781,  0.26249105,\n",
              "        0.17059807, -0.37077224,  0.32928118,  0.4516231 ,  0.24086894,\n",
              "       -0.6011995 , -0.02081092,  0.4023646 , -0.10935867, -0.12576297,\n",
              "        0.5150453 , -0.27243897,  0.07998145,  0.32327133,  0.22894984,\n",
              "        0.24240881, -0.22398256, -0.20226212, -0.20615806,  0.26631743,\n",
              "        0.07008897,  0.37222385,  0.25387645, -0.0800796 , -0.2717832 ,\n",
              "        0.5030363 , -0.05901096, -0.5394857 ,  0.07189506, -0.08312768,\n",
              "       -0.09080374,  0.17250505, -0.23056777,  0.39187104, -0.0912727 ,\n",
              "        0.08675928,  0.24752657, -0.00083688,  0.60898525, -0.5901882 ,\n",
              "       -0.3637477 ,  0.10016939, -0.00526029, -0.14580707, -0.20201656,\n",
              "        0.06959618, -0.10740467, -0.20716363, -0.5878418 , -0.12534772,\n",
              "       -0.19271384, -0.01089219,  0.3127131 , -0.07435098,  0.05273179,\n",
              "        0.02536356, -0.32013556,  0.27179712,  0.7314088 ,  0.37304568,\n",
              "       -0.2653772 ,  0.19254401,  0.73614013, -0.4845771 ,  0.4967714 ,\n",
              "        0.27270836, -0.06137225,  0.06278687], dtype=float32)"
            ]
          },
          "metadata": {},
          "execution_count": 16
        }
      ]
    },
    {
      "cell_type": "markdown",
      "source": [
        "**Training & Evaluating the link prediction model**\n",
        "\n",
        "There are few steps involved in using Word2Vec model to perform link prediction.\n",
        "\n",
        "1. Calculate link embeddings of positive and negative edges by applying binary operator to embeddings of source and destination nodes of particular edge.\n",
        "2. From the link embeddings found in previous step, train the logistic regression classifier to predict binary values (positive or negative edge).\n",
        "3. Evaluate performance of classification model for 4 different binary operators.\n",
        "4. Use best classifier on test data and find node embeddings on test graph.\n",
        "Let us first implement the binary operators for you so that you don't have to worry about their implementation. You just need to use it. Below are 4 binary operators mentioned in the original Node2Vec paper:\n",
        "\n",
        "* Hadamard\n",
        "* L1\n",
        "* L2\n",
        "* Average"
      ],
      "metadata": {
        "id": "LFu4Eg6OdbUy"
      }
    },
    {
      "cell_type": "code",
      "source": [
        "def operator_hadamard(u, v):\n",
        "    return u * v\n",
        "\n",
        "\n",
        "def operator_l1(u, v):\n",
        "    return np.abs(u - v)\n",
        "\n",
        "\n",
        "def operator_l2(u, v):\n",
        "    return (u - v) ** 2\n",
        "\n",
        "\n",
        "def operator_avg(u, v):\n",
        "    return (u + v) / 2.0"
      ],
      "metadata": {
        "id": "u9Q8K1mkd7YG"
      },
      "execution_count": 17,
      "outputs": []
    },
    {
      "cell_type": "markdown",
      "source": [
        "Now, you will implement functions to classify edges and some helper functions to do that. You can use above operator functions wherever you need to.\n",
        "\n",
        "For your flexibility, you don't need to write a whole function, you just need to complete the function in the given boilerplate."
      ],
      "metadata": {
        "id": "T7rZdbHZeEIM"
      }
    },
    {
      "cell_type": "code",
      "source": [
        "from sklearn.pipeline import Pipeline\n",
        "from sklearn.linear_model import LogisticRegressionCV\n",
        "from sklearn.metrics import roc_auc_score\n",
        "from sklearn.preprocessing import StandardScaler\n",
        "\n",
        "# Step 1: Finding Edge embeddings for all edges\n",
        "def edge_examples_to_embeddings(edges_examples, transform_node, binary_operator):\n",
        "    \"\"\"\n",
        "    Args:\n",
        "        edges_examples: list containing tuples of nodes (src, dest) containing edge information\n",
        "        transform_node: function to find node embedding by just passing node index\n",
        "        binary_operator: function which takes node embeddings of two nodes and finds edge embedding\n",
        "    \n",
        "    Returns: list containing edge embeddings for all edges in edges_examples\n",
        "    \"\"\"\n",
        "    edge_embeddings = []\n",
        "    # TODO: Iterate over edge_examples and apply binary operator on node embeddings to get edge embeddings\n",
        "    for src, dest in edges_examples:\n",
        "      p1=binary_operator(transform_node(src),transform_node(dest))\n",
        "      edge_embeddings.append(p1)\n",
        "    return edge_embeddings\n",
        "\n",
        "\n",
        "# Step 2: Training edge prediction model\n",
        "## Define function to create classifier model using LogisticRegressionCV\n",
        "## See https://scikit-learn.org/stable/modules/generated/sklearn.pipeline.Pipeline.html \n",
        "def edge_prediction_classifier(max_iter=2000):\n",
        "    \"\"\"\n",
        "    We have defined this function for you. Understand how it works.\n",
        "    \"\"\"\n",
        "    clf = LogisticRegressionCV(Cs=10, cv=10, scoring=\"roc_auc\", max_iter=max_iter)\n",
        "    return Pipeline(steps=[(\"sc\", StandardScaler()), (\"clf\", clf)])\n",
        "\n",
        "## Define function to create and train classifier model\n",
        "def train_edge_prediction_model(edges_examples, edge_labels, transform_node, binary_operator):\n",
        "    \"\"\"\n",
        "    Args:\n",
        "        edges_examples: list containing tuples of nodes (src, dest) containing edge information\n",
        "        edge_labels: list containing labels (0/1) for edges denoting whether the edge is positive or negative\n",
        "        transform_node: function to find node embedding by just passing node index\n",
        "        binary_operator: function which takes node embeddings of two nodes and finds edge embedding\n",
        "    \n",
        "    Returns: Trained classifier model\n",
        "    \"\"\"\n",
        "    # Use edge_prediction_classifier function to create model pipeline. \n",
        "    clf = edge_prediction_classifier()\n",
        "\n",
        "    # TODO: Use edge_examples_to_embeddings to find edge embeddings for edges_examples\n",
        "    edge_embeddings = edge_examples_to_embeddings(edges_examples, transform_node, binary_operator)\n",
        "    \n",
        "    # TODO: Train classifier using fit() method of clf. \n",
        "    clf.fit(edge_embeddings,edge_labels)\n",
        "    \n",
        "    \n",
        "    return clf\n",
        "\n",
        "\n",
        "# Step 3 & 4: Evaluate classifier for all binary operators\n",
        "## Define function to calculate ROC score of prediction\n",
        "def evaluate_roc_auc(clf, edge_embeddings,edge_labels):\n",
        "    \"\"\"\n",
        "    Args:\n",
        "        clf: trained classifier model\n",
        "        edge_embeddings: list containing embeddings of edges\n",
        "        edge_labels: list containing edge labels (0/1)\n",
        "    \n",
        "    Returns: ROC score for all edges in edge_embeddings\n",
        "    \"\"\"\n",
        "    # TODO: Find predictions of edge_embeddings using predict_proba(). \n",
        "    # Refer the documentation to learn how you use it. \n",
        "    predicted = clf.predict_proba(edge_embeddings)\n",
        "\n",
        "    # Find the column index which corresponds to positive edges (label=1) from clf.classes_\n",
        "    positive_column = list(clf.classes_).index(1)\n",
        "\n",
        "    return roc_auc_score(edge_labels, predicted[:, positive_column])\n",
        "\n",
        "## Evaluate classifier model on test data to find ROC score\n",
        "def evaluate_edge_prediction_model(clf, edges_examples, edge_labels, transform_node, binary_operator):\n",
        "    \"\"\"\n",
        "    Args:\n",
        "        clf: trained classifier model\n",
        "        edge_examples: list containing tuples of nodes (src, dest) containing edge information\n",
        "        edges_labels: list containing labels (0/1) for edges denoting whether the edge is positive or negative\n",
        "        transform_node: function to find node embedding by just passing node index\n",
        "        binary_operator: function which takes node embeddings of two nodes and finds edge embedding\n",
        "    \n",
        "    Returns: ROC score of predictions on data\n",
        "    \"\"\"\n",
        "    # TODO: Use edge_examples_to_embeddings to find edge embeddings for test_edge_examples\n",
        "    test_edge_examples=edge_examples_to_embeddings(edges_examples,transform_node, binary_operator)\n",
        "    \n",
        "    # TODO: Use evaluate_roc_auc to find ROC score for test data\n",
        "    score = evaluate_roc_auc(clf,edge_embeddings=test_edge_examples,edge_labels=edge_labels)\n",
        "    \n",
        "    return score"
      ],
      "metadata": {
        "id": "c7TPvy5MPIiP"
      },
      "execution_count": 18,
      "outputs": []
    },
    {
      "cell_type": "markdown",
      "source": [
        "Well Done! You have defined all the functions needed for creating and evaluating link prediction model. Now, you will create a function to run the experiments for all binary operators to decide that classifier corresponding to which binary operator performs best.\n",
        "\n",
        "Before you do that, remember that you already have train (```examples_train``` & ```labels_train```), validation (```examples_validation``` & ```labels_validation```) and test (```examples_test``` & ```labels_test```) datasets created. Also, you have ```embedding_train``` function which takes argument as node index and finds node embedding. You will need to use all above things in the below function."
      ],
      "metadata": {
        "id": "LpUf95DsVn41"
      }
    },
    {
      "cell_type": "code",
      "source": [
        "def run_edge_prediction(binary_operator):\n",
        "    \"\"\"\n",
        "    This function will run the experiment for particular binary operator function\n",
        "    and will return the details about the experiment.\n",
        "    \"\"\"\n",
        "    # TODO: Use train_edge_prediction_model to create & train classifier model on training dataset\n",
        "    clf = train_edge_prediction_model(edges_examples=examples_train,\n",
        "                                      edge_labels=labels_train,\n",
        "                                      transform_node=embedding_train,\n",
        "                                      binary_operator=binary_operator)\n",
        "\n",
        "    # TODO: Use evaluate_edge_prediction_model to find the ROC score above trained model\n",
        "    # Note that you will use validation data to find the ROC score and not train data\n",
        "    score =evaluate_edge_prediction_model(clf,\n",
        "                                          edges_examples=examples_validation,\n",
        "                                          edge_labels=labels_validation,\n",
        "                                          transform_node=embedding_train,\n",
        "                                          binary_operator=binary_operator)\n",
        "    \n",
        "    return {\n",
        "        \"classifier\": clf,\n",
        "        \"binary_operator\": binary_operator,\n",
        "        \"score\": score\n",
        "    }"
      ],
      "metadata": {
        "id": "LW5W0byCRLfz"
      },
      "execution_count": 19,
      "outputs": []
    },
    {
      "cell_type": "markdown",
      "source": [
        "Now is the time to run above function for all binary operator functions that we have given earlier."
      ],
      "metadata": {
        "id": "LFcd_s_wV_6U"
      }
    },
    {
      "cell_type": "code",
      "source": [
        "binary_operators = [operator_hadamard, operator_l1, operator_l2, operator_avg]\n",
        "\n",
        "results = []\n",
        "\n",
        "for op in binary_operators:\n",
        "    # TODO: Execute run_edge_prediction for all binary operators and put in results\n",
        "    results.append(run_edge_prediction(op))"
      ],
      "metadata": {
        "id": "H0h8-RWBWFMl"
      },
      "execution_count": 20,
      "outputs": []
    },
    {
      "cell_type": "code",
      "source": [
        "best_result = max(results, key=lambda result: result[\"score\"])\n",
        "\n",
        "print(f\"Best result from '{best_result['binary_operator'].__name__}'\")"
      ],
      "metadata": {
        "colab": {
          "base_uri": "https://localhost:8080/"
        },
        "id": "pg9nfg-6WT26",
        "outputId": "5b7fe919-0822-4f92-8539-eaf774473c8e"
      },
      "execution_count": 21,
      "outputs": [
        {
          "output_type": "stream",
          "name": "stdout",
          "text": [
            "Best result from 'operator_hadamard'\n"
          ]
        }
      ]
    },
    {
      "cell_type": "code",
      "source": [
        "for res in results:\n",
        "    print(\"Score for '{}': {}\".format(res['binary_operator'].__name__, res['score']))"
      ],
      "metadata": {
        "colab": {
          "base_uri": "https://localhost:8080/"
        },
        "id": "wYeXTHVDWeN8",
        "outputId": "f217adb8-f33d-4410-9f41-b35a032cf4b9"
      },
      "execution_count": 22,
      "outputs": [
        {
          "output_type": "stream",
          "name": "stdout",
          "text": [
            "Score for 'operator_hadamard': 0.7062662349008142\n",
            "Score for 'operator_l1': 0.5958951181726053\n",
            "Score for 'operator_l2': 0.5963523162762525\n",
            "Score for 'operator_avg': 0.610135237451805\n"
          ]
        }
      ]
    },
    {
      "cell_type": "markdown",
      "source": [
        "**Evaluating the best model against test data**\n",
        "\n",
        "Now you know that the model corresponding to which binary operator performs best. You have to calculate ROC score of model against test data (```examples_test``` & ```labels_test```).\n",
        "\n",
        "Note that you also will create ```embedding_test``` function to find node embedding of test data since the random walks for test data is different than train data."
      ],
      "metadata": {
        "id": "_jOuxiR6Wr8A"
      }
    },
    {
      "cell_type": "code",
      "source": [
        "# create node embedding function for test graph using node2vec_embedding\n",
        "embedding_test = node2vec_embedding(graph_test, \"Test Graph\")"
      ],
      "metadata": {
        "colab": {
          "base_uri": "https://localhost:8080/"
        },
        "id": "uPpAv8nzXInO",
        "outputId": "ec5eae54-0343-4388-900c-6a3e73b82c7d"
      },
      "execution_count": 23,
      "outputs": [
        {
          "output_type": "stream",
          "name": "stdout",
          "text": [
            "Number of random walks for \"Test Graph\": 24850\n"
          ]
        }
      ]
    },
    {
      "cell_type": "code",
      "source": [
        "# TODO: Find ROC score of best classifier model on test edges using evaluate_edge_prediction_model\n",
        "# You may want to use model stored in best_result \n",
        "def run_edge_prediction2(binary_operator):\n",
        "    \"\"\"\n",
        "    This function will run the experiment for particular binary operator function\n",
        "    and will return the details about the experiment.\n",
        "    \"\"\"\n",
        "    # TODO: Use train_edge_prediction_model to create & train classifier model on training dataset\n",
        "    clf = train_edge_prediction_model(edges_examples=examples_train,\n",
        "                                      edge_labels=labels_train,\n",
        "                                      transform_node=embedding_train,\n",
        "                                      binary_operator=binary_operator)\n",
        "\n",
        "    # TODO: Use evaluate_edge_prediction_model to find the ROC score above trained model\n",
        "    # Note that you will use validation data to find the ROC score and not train data\n",
        "    score =evaluate_edge_prediction_model(clf,\n",
        "                                          edges_examples=examples_test,\n",
        "                                          edge_labels=labels_test,\n",
        "                                          transform_node=embedding_test,\n",
        "                                          binary_operator=binary_operator)\n",
        "    \n",
        "    return {\n",
        "        \"classifier\": clf,\n",
        "        \"binary_operator\": binary_operator,\n",
        "        \"score\": score\n",
        "    }\n",
        "\n",
        "\n",
        "\n",
        "\n",
        "test_score =run_edge_prediction2(operator_hadamard)\n",
        "\n",
        "print(\n",
        "    f\"ROC AUC score on test set using '{best_result['binary_operator'].__name__}': {test_score}\"\n",
        ")"
      ],
      "metadata": {
        "colab": {
          "base_uri": "https://localhost:8080/"
        },
        "id": "oR1E3Su8Xdcg",
        "outputId": "37fa1591-a7df-4272-e531-f3af8cf1c462"
      },
      "execution_count": 24,
      "outputs": [
        {
          "output_type": "stream",
          "name": "stdout",
          "text": [
            "ROC AUC score on test set using 'operator_hadamard': {'classifier': Pipeline(steps=[('sc', StandardScaler()),\n",
            "                ('clf',\n",
            "                 LogisticRegressionCV(cv=10, max_iter=2000,\n",
            "                                      scoring='roc_auc'))]), 'binary_operator': <function operator_hadamard at 0x7f8410b37050>, 'score': 0.8301590236686391}\n"
          ]
        }
      ]
    },
    {
      "cell_type": "markdown",
      "source": [
        "**Visualize Edge Embeddings**\n",
        "\n",
        "You know that learned embeddings are of 128 dimensions but to visualize, we need to project them into 2 dimensions. This is where ```PCA``` (Principle Component Analysis) or other dimensionality reduction can be useful. Let's quickly see whether we can actually see the seperation between positive and negative samples"
      ],
      "metadata": {
        "id": "qBQeD1XWZq9D"
      }
    },
    {
      "cell_type": "code",
      "source": [
        "# Get embeddings of edges in test data using edge_examples_to_embeddings\n",
        "test_edges_embeddings = edge_examples_to_embeddings(examples_test,\n",
        "                                                    embedding_test,\n",
        "                                                    best_result[\"binary_operator\"])\n",
        "\n",
        "# Create PCA object and transform embeddings to 2D data\n",
        "pca = PCA(n_components=2)\n",
        "compressed_embeddings = pca.fit_transform(test_edges_embeddings)\n",
        "\n",
        "# Create scatter plot of the compressed embedding\n",
        "diff = [(0, 'grey', 'Negative'), (1, 'green', 'Positive')]\n",
        "fig, ax = plt.subplots()\n",
        "for label, color, label_name in diff:\n",
        "    ax.scatter(compressed_embeddings[labels_test == label][:, 0],\n",
        "               compressed_embeddings[labels_test == label][:, 1], \n",
        "               c=color,\n",
        "               label=label_name,\n",
        "               alpha=0.5)\n",
        "ax.legend()\n",
        "plt.show()"
      ],
      "metadata": {
        "colab": {
          "base_uri": "https://localhost:8080/",
          "height": 265
        },
        "id": "_ueS8t9rZ038",
        "outputId": "012789b9-531c-471a-eb30-a2a4c8236f52"
      },
      "execution_count": 25,
      "outputs": [
        {
          "output_type": "display_data",
          "data": {
            "text/plain": [
              "<Figure size 432x288 with 1 Axes>"
            ],
            "image/png": "[encoded data removed]"
          },
          "metadata": {
            "needs_background": "light"
          }
        }
      ]
    }
  ]
}